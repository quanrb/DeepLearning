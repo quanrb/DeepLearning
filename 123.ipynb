{
 "cells": [
  {
   "cell_type": "code",
   "execution_count": 5,
   "metadata": {},
   "outputs": [],
   "source": [
    "import cv2\n",
    "import matplotlib.pyplot as plt\n",
    "from homr.autocrop import autocrop\n",
    "from homr.resize import resize_image\n",
    "from homr.color_adjust import color_adjust\n",
    "from homr.color_adjust import remove_background_from_channel \n",
    "import numpy as np\n",
    "import scipy\n",
    "from scipy.ndimage import center_of_mass\n",
    "\n",
    "# Read the image\n",
    "# image_path = './Em-gai-mua.png'\n",
    "image_path= './test.png'\n"
   ]
  },
  {
   "cell_type": "code",
   "execution_count": 16,
   "metadata": {},
   "outputs": [],
   "source": [
    "def test(image_path):\n",
    "    image = cv2.imread(image_path)\n",
    "    # print(image.shape)\n",
    "    image = autocrop(image)\n",
    "    image = resize_image(image)\n",
    "    \n",
    "    image = cv2.cvtColor(image, cv2.COLOR_BGR2GRAY)\n",
    "    image, background = remove_background_from_channel(image,40)\n",
    "    print(image.shape)\n",
    "    return image"
   ]
  },
  {
   "cell_type": "code",
   "execution_count": null,
   "metadata": {},
   "outputs": [],
   "source": [
    "def get_dominant_color(\n",
    "    gray_scale, color_range: range, default: int | None = None\n",
    ") -> int | None:\n",
    "    if gray_scale.dtype != np.uint8:\n",
    "        raise Exception(\"Wrong image dtype\")\n",
    "\n",
    "    # Create a mask for values in the range [min_val, max_val]\n",
    "    mask = (gray_scale >= color_range.start) & (gray_scale <= color_range.stop)\n",
    "    count_gte = np.sum(gray_scale >= color_range.start)  # Pixels >= color_range.start\n",
    "    count_lte = np.sum(gray_scale <= color_range.stop)\n",
    "    print(count_gte, count_lte)\n",
    "    print(np.any(mask))\n",
    "    # Apply the mask to the grayscale image\n",
    "    masked_gray_scale = gray_scale[mask]\n",
    "    print(masked_gray_scale)\n",
    "    if masked_gray_scale.size == 0:\n",
    "        return default\n",
    "\n",
    "    bins = np.bincount(masked_gray_scale.flatten())\n",
    "    center_of_mass = scipy.ndimage.center_of_mass(bins)[0]\n",
    "    return int(center_of_mass)"
   ]
  },
  {
   "cell_type": "code",
   "execution_count": 30,
   "metadata": {},
   "outputs": [
    {
     "name": "stdout",
     "output_type": "stream",
     "text": [
      "10837653 382347\n",
      "False\n",
      "[]\n"
     ]
    }
   ],
   "source": [
    "image_path= './test.png'\n",
    "image = cv2.imread(image_path)\n",
    "get_dominant_color(image, range(150, 254))\n"
   ]
  },
  {
   "cell_type": "code",
   "execution_count": 31,
   "metadata": {},
   "outputs": [
    {
     "name": "stdout",
     "output_type": "stream",
     "text": [
      "(1298, 1836)\n"
     ]
    },
    {
     "data": {
      "text/plain": [
       "(array([[[255, 255, 255],\n",
       "         [255, 255, 255],\n",
       "         [255, 255, 255],\n",
       "         ...,\n",
       "         [255, 255, 255],\n",
       "         [255, 255, 255],\n",
       "         [255, 255, 255]],\n",
       " \n",
       "        [[255, 255, 255],\n",
       "         [255, 255, 255],\n",
       "         [255, 255, 255],\n",
       "         ...,\n",
       "         [255, 255, 255],\n",
       "         [255, 255, 255],\n",
       "         [255, 255, 255]],\n",
       " \n",
       "        [[255, 255, 255],\n",
       "         [255, 255, 255],\n",
       "         [255, 255, 255],\n",
       "         ...,\n",
       "         [255, 255, 255],\n",
       "         [255, 255, 255],\n",
       "         [255, 255, 255]],\n",
       " \n",
       "        ...,\n",
       " \n",
       "        [[255, 255, 255],\n",
       "         [255, 255, 255],\n",
       "         [255, 255, 255],\n",
       "         ...,\n",
       "         [255, 255, 255],\n",
       "         [255, 255, 255],\n",
       "         [255, 255, 255]],\n",
       " \n",
       "        [[255, 255, 255],\n",
       "         [255, 255, 255],\n",
       "         [255, 255, 255],\n",
       "         ...,\n",
       "         [255, 255, 255],\n",
       "         [255, 255, 255],\n",
       "         [255, 255, 255]],\n",
       " \n",
       "        [[255, 255, 255],\n",
       "         [255, 255, 255],\n",
       "         [255, 255, 255],\n",
       "         ...,\n",
       "         [255, 255, 255],\n",
       "         [255, 255, 255],\n",
       "         [255, 255, 255]]], dtype=uint8),\n",
       " array([[232, 232, 232, ..., 245, 245, 245],\n",
       "        [232, 232, 232, ..., 245, 245, 245],\n",
       "        [232, 232, 232, ..., 245, 245, 245],\n",
       "        ...,\n",
       "        [247, 247, 247, ..., 227, 227, 227],\n",
       "        [247, 247, 247, ..., 227, 227, 227],\n",
       "        [247, 247, 247, ..., 227, 227, 227]], dtype=uint8))"
      ]
     },
     "execution_count": 31,
     "metadata": {},
     "output_type": "execute_result"
    },
    {
     "name": "stderr",
     "output_type": "stream",
     "text": [
      "Bad pipe message: %s [b'\"Google Chrome\";v=\"131\", \"Chromium\";v=\"131\", \"Not_A Brand']\n",
      "Bad pipe message: %s [b'ol: max-age=0\\r\\nsec-ch-ua: \"Google Chrome\";v=\"131\", \"Chromium\";v=\"131\", \"Not_A Brand\";v=\"24\"\\r\\nsec-ch-ua-mobile: ?0\\r\\n']\n",
      "Bad pipe message: %s [b'c-ch-ua-platform: \"Windows\"\\r\\nUpgrade-Insecure-Requests: 1\\r\\nUser-Agent: Mozilla/5.0 (Windows NT 10.0; Win64; x64) A', b'leWebKit/537.36 (KHTML, like Gecko) Chrome/131.0.0.0 Safari/537.36\\r\\nAccept: text/html,application/xhtml+xml,app']\n",
      "Bad pipe message: %s [b'cation/xml;q=0.9,image/avif,image/webp,image/apng,*/*;q=0.8,application/signed-exchange;v=b3;q=0.7\\r\\nSec-Fet', b'-Site: none\\r\\nSec-Fetch-Mode: navigate\\r\\nSec-Fetch-User: ?1\\r\\nSec-Fetch-Dest: document\\r\\nAccept-Encodi']\n",
      "Bad pipe message: %s [b'ol: max-age=0\\r\\nsec-ch-ua: \"Google Chrome\";v=\"131\", \"Chromium\";v=\"131\", \"Not_A Brand\";v=\"24\"\\r\\nsec-ch-ua-mobile: ?0\\r\\n']\n",
      "Bad pipe message: %s [b'c-ch-ua-platform: \"Windows\"\\r\\nUpgrade-Insecure-Requests: 1\\r\\nUser-Agent: Mozilla/5.0 (Windows NT 10.0; Win64; x64) A', b'leWebKit/537.36 (KHTML, like Gecko) Chrome/131.0.0.0 Safari/537.36\\r\\nAccept: text/html,application/xhtml+xml,app']\n",
      "Bad pipe message: %s [b'cation/xml;q=0.9,image/avif,image/webp,image/apng,*/*;q=0.8,application/signed-exchange;v=b3;q=0.7\\r\\nSec-Fet', b'-Site: none\\r\\nSec-Fetch-Mode: navigate\\r\\nSec-Fetch-User: ?1\\r\\nSec-Fetch-Dest: document\\r\\nAccept-Encodi']\n",
      "Bad pipe message: %s [b'nnection: keep-alive\\r\\nUpgrade-Insecure-Requests: 1\\r\\nUser-Agent: Mo', b'lla/5.0 (Windows NT 10.0; Win64; x64) AppleWebKit/537.36 (KHTML, like Gecko) Code/1.95.3 Chrome/128.0.6613.186 Electron/3', b'2.1 Safari/537.36\\r\\nAccept: text/html,application/']\n",
      "Bad pipe message: %s [b'tml+xml,application/xml;q=0.9,image/avif,image/webp,image/apng,*/*;q=0.8,application/signed-exchange;v=b3;q=0.7\\r\\nSec-Fe']\n"
     ]
    }
   ],
   "source": [
    "image_path = './Em-gai-mua.png'\n",
    "image = cv2.imread(image_path)\n",
    "color_adjust(image, 40)"
   ]
  },
  {
   "cell_type": "code",
   "execution_count": 4,
   "metadata": {},
   "outputs": [
    {
     "name": "stdout",
     "output_type": "stream",
     "text": [
      "<module 'posixpath' from '/usr/lib/python3.10/posixpath.py'>\n"
     ]
    }
   ],
   "source": [
    "import os\n",
    "# script_location = os.path.join(os.path.dirname(__file__)) \n",
    "print (os.path)"
   ]
  }
 ],
 "metadata": {
  "kernelspec": {
   "display_name": "venv",
   "language": "python",
   "name": "python3"
  },
  "language_info": {
   "codemirror_mode": {
    "name": "ipython",
    "version": 3
   },
   "file_extension": ".py",
   "mimetype": "text/x-python",
   "name": "python",
   "nbconvert_exporter": "python",
   "pygments_lexer": "ipython3",
   "version": "3.10.12"
  }
 },
 "nbformat": 4,
 "nbformat_minor": 2
}
